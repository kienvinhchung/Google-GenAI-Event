{
 "cells": [
  {
   "cell_type": "markdown",
   "id": "5c601ba7",
   "metadata": {
    "id": "jkxRSYjzA1oX",
    "papermill": {
     "duration": 0.01138,
     "end_time": "2025-03-31T22:18:04.309217",
     "exception": false,
     "start_time": "2025-03-31T22:18:04.297837",
     "status": "completed"
    },
    "tags": []
   },
   "source": [
    "##### Copyright 2025 Google LLC."
   ]
  },
  {
   "cell_type": "code",
   "execution_count": 1,
   "id": "36bc2d0b",
   "metadata": {
    "cellView": "form",
    "execution": {
     "iopub.execute_input": "2025-03-31T22:18:04.329868Z",
     "iopub.status.busy": "2025-03-31T22:18:04.329559Z",
     "iopub.status.idle": "2025-03-31T22:18:04.334465Z",
     "shell.execute_reply": "2025-03-31T22:18:04.333822Z"
    },
    "id": "5u5OZ2ShA3BA",
    "jupyter": {
     "source_hidden": true
    },
    "papermill": {
     "duration": 0.017428,
     "end_time": "2025-03-31T22:18:04.335980",
     "exception": false,
     "start_time": "2025-03-31T22:18:04.318552",
     "status": "completed"
    },
    "tags": []
   },
   "outputs": [],
   "source": [
    "# @title Licensed under the Apache License, Version 2.0 (the \"License\");\n",
    "# you may not use this file except in compliance with the License.\n",
    "# You may obtain a copy of the License at\n",
    "#\n",
    "# https://www.apache.org/licenses/LICENSE-2.0\n",
    "#\n",
    "# Unless required by applicable law or agreed to in writing, software\n",
    "# distributed under the License is distributed on an \"AS IS\" BASIS,\n",
    "# WITHOUT WARRANTIES OR CONDITIONS OF ANY KIND, either express or implied.\n",
    "# See the License for the specific language governing permissions and\n",
    "# limitations under the License."
   ]
  },
  {
   "cell_type": "markdown",
   "id": "cd4339c3",
   "metadata": {
    "id": "csNPnkuCobmG",
    "papermill": {
     "duration": 0.008787,
     "end_time": "2025-03-31T22:18:04.354409",
     "exception": false,
     "start_time": "2025-03-31T22:18:04.345622",
     "status": "completed"
    },
    "tags": []
   },
   "source": [
    "# Day 1 - Prompting\n",
    "\n",
    "Welcome to the Kaggle 5-day Generative AI course!\n",
    "\n",
    "This notebook will show you how to get started with the Gemini API and walk you through some of the example prompts and techniques that you can also read about in the Prompting whitepaper. You don't need to read the whitepaper to use this notebook, but the papers will give you some theoretical context and background to complement this interactive notebook.\n",
    "\n",
    "\n",
    "## Before you begin\n",
    "\n",
    "In this notebook, you'll start exploring prompting using the Python SDK and AI Studio. For some inspiration, you might enjoy exploring some apps that have been built using the Gemini family of models. Here are a few that we like, and we think you will too.\n",
    "\n",
    "* [TextFX](https://textfx.withgoogle.com/) is a suite of AI-powered tools for rappers, made in collaboration with Lupe Fiasco,\n",
    "* [SQL Talk](https://sql-talk-r5gdynozbq-uc.a.run.app/) shows how you can talk directly to a database using the Gemini API,\n",
    "* [NotebookLM](https://notebooklm.google/) uses Gemini models to build your own personal AI research assistant.\n",
    "\n",
    "\n",
    "## For help\n",
    "\n",
    "**Common issues are covered in the [FAQ and troubleshooting guide](https://www.kaggle.com/code/markishere/day-0-troubleshooting-and-faqs).**\n",
    "\n",
    "## New for Gemini 2.0!\n",
    "\n",
    "This course material was first launched in November 2024. The AI and LLM space is moving incredibly fast, so we have made some updates to use the latest models and capabilities.\n",
    "\n",
    "* These codelabs have been updated to use the Gemini 2.0 family of models.\n",
    "* The Python SDK has been updated from `google-generativeai` to the new, unified [`google-genai`](https://pypi.org/project/google-genai) SDK.\n",
    "  * This new SDK works with both the developer Gemini API as well as Google Cloud Vertex AI, and switching is [as simple as changing some fields](https://pypi.org/project/google-genai/#:~:text=.Client%28%29-,API%20Selection,-By%20default%2C%20the).\n",
    "* New model capabilities have been added to the relevant codelabs, such as \"thinking mode\" in this lab.\n",
    "* Day 1 includes a new [Evaluation codelab](https://www.kaggle.com/code/markishere/day-1-evaluation-and-structured-output)."
   ]
  },
  {
   "cell_type": "markdown",
   "id": "6a302def",
   "metadata": {
    "id": "f00ea7c99e44",
    "papermill": {
     "duration": 0.008306,
     "end_time": "2025-03-31T22:18:04.373058",
     "exception": false,
     "start_time": "2025-03-31T22:18:04.364752",
     "status": "completed"
    },
    "tags": []
   },
   "source": [
    "## Get started with Kaggle notebooks\n",
    "\n",
    "If this is your first time using a Kaggle notebook, welcome! You can read about how to use Kaggle notebooks [in the docs](https://www.kaggle.com/docs/notebooks).\n",
    "\n",
    "First, you will need to phone verify your account at kaggle.com/settings.\n",
    "\n",
    "![](https://storage.googleapis.com/kaggle-media/Images/5dgai_0.png)"
   ]
  },
  {
   "cell_type": "markdown",
   "id": "b2044201",
   "metadata": {
    "papermill": {
     "duration": 0.008486,
     "end_time": "2025-03-31T22:18:04.390011",
     "exception": false,
     "start_time": "2025-03-31T22:18:04.381525",
     "status": "completed"
    },
    "tags": []
   },
   "source": [
    "To run this notebook, as well as the others in this course, you will need to make a copy, or fork, the notebook. Look for the `Copy and Edit` button in the top-right, and **click it** to make an editable, private copy of the notebook. It should look like this one:\n",
    "\n",
    "![Copy and Edit button](https://storage.googleapis.com/kaggle-media/Images/5gdai_sc_1.png)\n",
    "\n",
    "Your copy will now have a ▶️ **Run** button next to each code cell that you can press to execute that cell. These notebooks are expected to be run in order from top-to-bottom, but you are encouraged to add new cells, run your own code and explore. If you get stuck, you can try the `Factory reset` option in the `Run` menu, or head back to the original notebook and make a fresh copy.\n",
    "\n",
    "![Run cell button](https://storage.googleapis.com/kaggle-media/Images/5gdai_sc_2.png)\n",
    "\n",
    "### Problems?\n",
    "\n",
    "If you have any problems, head over to the [Kaggle Discord](https://discord.com/invite/kaggle), find the [`#5dgai-q-and-a` channel](https://discord.com/channels/1101210829807956100/1303438695143178251) and ask for help."
   ]
  },
  {
   "cell_type": "markdown",
   "id": "e89638f6",
   "metadata": {
    "id": "ExkOXcPxtTb5",
    "papermill": {
     "duration": 0.008056,
     "end_time": "2025-03-31T22:18:04.406640",
     "exception": false,
     "start_time": "2025-03-31T22:18:04.398584",
     "status": "completed"
    },
    "tags": []
   },
   "source": [
    "## Get started with the Gemini API\n",
    "\n",
    "All of the exercises in this notebook will use the [Gemini API](https://ai.google.dev/gemini-api/) by way of the [Python SDK](https://pypi.org/project/google-genai/). Each of these prompts can be accessed directly in [Google AI Studio](https://aistudio.google.com/) too, so if you would rather use a web interface and skip the code for this activity, look for the <img src=\"https://ai.google.dev/site-assets/images/marketing/home/icon-ais.png\" style=\"height: 24px\" height=24/> AI Studio link on each prompt."
   ]
  },
  {
   "cell_type": "markdown",
   "id": "ba752748",
   "metadata": {
    "papermill": {
     "duration": 0.008209,
     "end_time": "2025-03-31T22:18:04.423259",
     "exception": false,
     "start_time": "2025-03-31T22:18:04.415050",
     "status": "completed"
    },
    "tags": []
   },
   "source": [
    "Next, you will need to add your API key to your Kaggle Notebook as a Kaggle User Secret.\n",
    "\n",
    "![](https://storage.googleapis.com/kaggle-media/Images/5dgai_1.png)\n",
    "![](https://storage.googleapis.com/kaggle-media/Images/5dgai_2.png)\n",
    "![](https://storage.googleapis.com/kaggle-media/Images/5dgai_3.png)\n",
    "![](https://storage.googleapis.com/kaggle-media/Images/5dgai_4.png)"
   ]
  },
  {
   "cell_type": "markdown",
   "id": "e9980f2c",
   "metadata": {
    "id": "UAjUV3BsvFXQ",
    "papermill": {
     "duration": 0.008336,
     "end_time": "2025-03-31T22:18:04.439949",
     "exception": false,
     "start_time": "2025-03-31T22:18:04.431613",
     "status": "completed"
    },
    "tags": []
   },
   "source": [
    "### Install the SDK"
   ]
  },
  {
   "cell_type": "code",
   "execution_count": 13,
   "id": "f03bafca",
   "metadata": {
    "execution": {
     "iopub.execute_input": "2025-03-31T22:18:04.459591Z",
     "iopub.status.busy": "2025-03-31T22:18:04.459232Z",
     "iopub.status.idle": "2025-03-31T22:18:19.262289Z",
     "shell.execute_reply": "2025-03-31T22:18:19.261136Z"
    },
    "id": "NzwzJFU9LqkJ",
    "papermill": {
     "duration": 14.815976,
     "end_time": "2025-03-31T22:18:19.264501",
     "exception": false,
     "start_time": "2025-03-31T22:18:04.448525",
     "status": "completed"
    },
    "tags": []
   },
   "outputs": [],
   "source": [
    "!pip uninstall -qqy jupyterlab  # Remove unused packages from Kaggle's base image that conflict\n",
    "!pip install -U -q \"google-genai==1.7.0\"\n",
    "\n",
    "!pip install google-api-core --quiet\n",
    "!pip install python-dotenv --quiet"
   ]
  },
  {
   "cell_type": "markdown",
   "id": "d35ab303",
   "metadata": {
    "papermill": {
     "duration": 0.008014,
     "end_time": "2025-03-31T22:18:19.281332",
     "exception": false,
     "start_time": "2025-03-31T22:18:19.273318",
     "status": "completed"
    },
    "tags": []
   },
   "source": [
    "Import the SDK and some helpers for rendering the output."
   ]
  },
  {
   "cell_type": "code",
   "execution_count": 7,
   "id": "7458637a",
   "metadata": {
    "execution": {
     "iopub.execute_input": "2025-03-31T22:18:19.299390Z",
     "iopub.status.busy": "2025-03-31T22:18:19.299046Z",
     "iopub.status.idle": "2025-03-31T22:18:20.328462Z",
     "shell.execute_reply": "2025-03-31T22:18:20.327359Z"
    },
    "id": "5DwxYIRavMST",
    "papermill": {
     "duration": 1.041084,
     "end_time": "2025-03-31T22:18:20.330614",
     "exception": false,
     "start_time": "2025-03-31T22:18:19.289530",
     "status": "completed"
    },
    "tags": []
   },
   "outputs": [],
   "source": [
    "from google import genai\n",
    "from google.genai import types\n",
    "\n",
    "from IPython.display import HTML, Markdown, display"
   ]
  },
  {
   "cell_type": "markdown",
   "id": "38a4faf9",
   "metadata": {
    "papermill": {
     "duration": 0.008461,
     "end_time": "2025-03-31T22:18:20.348110",
     "exception": false,
     "start_time": "2025-03-31T22:18:20.339649",
     "status": "completed"
    },
    "tags": []
   },
   "source": [
    "Set up a retry helper. This allows you to \"Run all\" without worrying about per-minute quota."
   ]
  },
  {
   "cell_type": "code",
   "execution_count": 8,
   "id": "7dd8b953",
   "metadata": {
    "execution": {
     "iopub.execute_input": "2025-03-31T22:18:20.367124Z",
     "iopub.status.busy": "2025-03-31T22:18:20.366617Z",
     "iopub.status.idle": "2025-03-31T22:18:20.521625Z",
     "shell.execute_reply": "2025-03-31T22:18:20.520811Z"
    },
    "papermill": {
     "duration": 0.166775,
     "end_time": "2025-03-31T22:18:20.523596",
     "exception": false,
     "start_time": "2025-03-31T22:18:20.356821",
     "status": "completed"
    },
    "tags": []
   },
   "outputs": [],
   "source": [
    "from google.api_core import retry\n",
    "\n",
    "\n",
    "is_retriable = lambda e: (isinstance(e, genai.errors.APIError) and e.code in {429, 503})\n",
    "\n",
    "genai.models.Models.generate_content = retry.Retry(\n",
    "    predicate=is_retriable)(genai.models.Models.generate_content)"
   ]
  },
  {
   "cell_type": "markdown",
   "id": "c3ce518f",
   "metadata": {
    "id": "DNEt2BCOvOJ1",
    "papermill": {
     "duration": 0.008314,
     "end_time": "2025-03-31T22:18:20.541502",
     "exception": false,
     "start_time": "2025-03-31T22:18:20.533188",
     "status": "completed"
    },
    "tags": []
   },
   "source": [
    "### Set up your API key\n",
    "\n",
    "To run the following cell, your API key must be stored it in a [Kaggle secret](https://www.kaggle.com/discussions/product-feedback/114053) named `GOOGLE_API_KEY`.\n",
    "\n",
    "If you don't already have an API key, you can grab one from [AI Studio](https://aistudio.google.com/app/apikey). You can find [detailed instructions in the docs](https://ai.google.dev/gemini-api/docs/api-key).\n",
    "\n",
    "To make the key available through Kaggle secrets, choose `Secrets` from the `Add-ons` menu and follow the instructions to add your key or enable it for this notebook."
   ]
  },
  {
   "cell_type": "code",
   "execution_count": 16,
   "id": "c7e23345",
   "metadata": {
    "execution": {
     "iopub.execute_input": "2025-03-31T22:18:20.559411Z",
     "iopub.status.busy": "2025-03-31T22:18:20.558960Z",
     "iopub.status.idle": "2025-03-31T22:18:20.739158Z",
     "shell.execute_reply": "2025-03-31T22:18:20.738355Z"
    },
    "id": "SHl0bkPCvayd",
    "papermill": {
     "duration": 0.191144,
     "end_time": "2025-03-31T22:18:20.740935",
     "exception": false,
     "start_time": "2025-03-31T22:18:20.549791",
     "status": "completed"
    },
    "tags": []
   },
   "outputs": [],
   "source": [
    "# For Kaggle users, the API key is stored in a secret. For local users, it is stored in a .env file.\n",
    "\n",
    "# from kaggle_secrets import UserSecretsClient\n",
    "# GOOGLE_API_KEY = UserSecretsClient().get_secret(\"GOOGLE_API_KEY\")\n",
    "\n",
    "\n",
    "import os\n",
    "from dotenv import load_dotenv\n",
    "load_dotenv()\n",
    "GOOGLE_API_KEY = os.getenv(\"GOOGLE_API_KEY\")"
   ]
  },
  {
   "cell_type": "markdown",
   "id": "15d1a6d8",
   "metadata": {
    "id": "4e720472fd86",
    "papermill": {
     "duration": 0.007923,
     "end_time": "2025-03-31T22:18:20.757497",
     "exception": false,
     "start_time": "2025-03-31T22:18:20.749574",
     "status": "completed"
    },
    "tags": []
   },
   "source": [
    "If you received an error response along the lines of `No user secrets exist for kernel id ...`, then you need to add your API key via `Add-ons`, `Secrets` **and** enable it.\n",
    "\n",
    "![Screenshot of the checkbox to enable GOOGLE_API_KEY secret](https://storage.googleapis.com/kaggle-media/Images/5gdai_sc_3.png)"
   ]
  },
  {
   "cell_type": "markdown",
   "id": "e69dc11d",
   "metadata": {
    "id": "H_YXCYIKvyZJ",
    "papermill": {
     "duration": 0.008031,
     "end_time": "2025-03-31T22:18:20.773678",
     "exception": false,
     "start_time": "2025-03-31T22:18:20.765647",
     "status": "completed"
    },
    "tags": []
   },
   "source": [
    "### Run your first prompt\n",
    "\n",
    "In this step, you will test that your API key is set up correctly by making a request.\n",
    "\n",
    "The Python SDK uses a [`Client` object](https://googleapis.github.io/python-genai/genai.html#genai.client.Client) to make requests to the API. The client lets you control which back-end to use (between the Gemini API and Vertex AI) and handles authentication (the API key).\n",
    "\n",
    "The `gemini-2.0-flash` model has been selected here.\n",
    "\n",
    "**Note**: If you see a `TransportError` on this step, you may need to **🔁 Factory reset** the notebook one time."
   ]
  },
  {
   "cell_type": "code",
   "execution_count": 17,
   "id": "a4287d38",
   "metadata": {
    "execution": {
     "iopub.execute_input": "2025-03-31T22:18:20.793472Z",
     "iopub.status.busy": "2025-03-31T22:18:20.793163Z",
     "iopub.status.idle": "2025-03-31T22:18:22.453080Z",
     "shell.execute_reply": "2025-03-31T22:18:22.451314Z"
    },
    "id": "BV1o0PmcvyJF",
    "papermill": {
     "duration": 1.672289,
     "end_time": "2025-03-31T22:18:22.455453",
     "exception": false,
     "start_time": "2025-03-31T22:18:20.783164",
     "status": "completed"
    },
    "tags": []
   },
   "outputs": [
    {
     "name": "stdout",
     "output_type": "stream",
     "text": [
      "Imagine you have a really smart puppy named Sparky.  Sparky is great, but he only knows a few tricks. You have to tell him *exactly* what to do every single time, like \"Sit!\" or \"Fetch!\"\n",
      "\n",
      "AI is like teaching Sparky a LOT more tricks, so many that he seems like he can almost understand what you want *without* you telling him exactly.  \n",
      "\n",
      "Here's how it works:\n",
      "\n",
      "* **Lots of Information:**  You feed Sparky (the AI) tons and tons of examples.  Like, if you want him to learn to recognize pictures of cats, you show him MILLIONS of pictures of cats.\n",
      "* **Learning the Pattern:**  Sparky looks at all those pictures and figures out what things cats have in common - pointy ears, whiskers, furry. He learns a pattern.\n",
      "* **Making a Guess:** Now, if you show Sparky a brand new picture, he can use the pattern he learned to *guess* if it's a cat or not. He might not be right every time, but he gets better with more practice!\n",
      "\n",
      "So AI is like teaching a really, really smart puppy to recognize patterns, make guesses, and do things that seem almost magical, like write stories, play games, or even drive a car!  It's not really magic, though, it's just lots of learning and figuring out patterns.\n",
      "\n",
      "Just like it takes time and patience to train a real puppy, it takes time and lots of smart people to build and train AI.  \n",
      "\n"
     ]
    }
   ],
   "source": [
    "client = genai.Client(api_key=GOOGLE_API_KEY)\n",
    "\n",
    "response = client.models.generate_content(\n",
    "    model=\"gemini-2.0-flash\",\n",
    "    contents=\"Explain AI to me like I'm a kid.\")\n",
    "\n",
    "print(response.text)"
   ]
  },
  {
   "cell_type": "markdown",
   "id": "2c224408",
   "metadata": {
    "id": "f60ed9d8ae41",
    "papermill": {
     "duration": 0.008699,
     "end_time": "2025-03-31T22:18:22.473370",
     "exception": false,
     "start_time": "2025-03-31T22:18:22.464671",
     "status": "completed"
    },
    "tags": []
   },
   "source": [
    "The response often comes back in markdown format, which you can render directly in this notebook."
   ]
  },
  {
   "cell_type": "code",
   "execution_count": 7,
   "id": "3687a939",
   "metadata": {
    "execution": {
     "iopub.execute_input": "2025-03-31T22:18:22.492737Z",
     "iopub.status.busy": "2025-03-31T22:18:22.492438Z",
     "iopub.status.idle": "2025-03-31T22:18:22.498797Z",
     "shell.execute_reply": "2025-03-31T22:18:22.497898Z"
    },
    "id": "c933e5e460a5",
    "papermill": {
     "duration": 0.018559,
     "end_time": "2025-03-31T22:18:22.500184",
     "exception": false,
     "start_time": "2025-03-31T22:18:22.481625",
     "status": "completed"
    },
    "tags": []
   },
   "outputs": [
    {
     "data": {
      "text/markdown": [
       "Imagine you have a really smart dog. It can learn tricks, right? You show it something over and over, and it remembers and does it!\n",
       "\n",
       "AI is like that smart dog, but it's a computer program.  Instead of teaching it tricks with treats, we give it lots and lots of information.\n",
       "\n",
       "*   **Learning:** We show it tons of pictures of cats, and it learns what a cat looks like.\n",
       "*   **Recognizing:** Then, when you show it a new picture, it can say, \"Hey, that's a cat!\"\n",
       "*   **Helping:** It can also help us with other things! Like answering questions, or even driving a car!\n",
       "\n",
       "AI isn't really \"thinking\" like you or me.  It's just really good at seeing patterns and using them to do things.  It's like a super-fast learner and rememberer!\n",
       "\n",
       "So, AI is like a really smart program that can learn from information and help us solve problems. Isn't that cool?\n"
      ],
      "text/plain": [
       "<IPython.core.display.Markdown object>"
      ]
     },
     "execution_count": 7,
     "metadata": {},
     "output_type": "execute_result"
    }
   ],
   "source": [
    "Markdown(response.text)"
   ]
  },
  {
   "cell_type": "markdown",
   "id": "4dc98cdd",
   "metadata": {
    "id": "byx0pT9ZMW2Q",
    "papermill": {
     "duration": 0.008518,
     "end_time": "2025-03-31T22:18:22.517513",
     "exception": false,
     "start_time": "2025-03-31T22:18:22.508995",
     "status": "completed"
    },
    "tags": []
   },
   "source": [
    "### Start a chat\n",
    "\n",
    "The previous example uses a single-turn, text-in/text-out structure, but you can also set up a multi-turn chat structure too."
   ]
  },
  {
   "cell_type": "code",
   "execution_count": 8,
   "id": "73bc7a05",
   "metadata": {
    "execution": {
     "iopub.execute_input": "2025-03-31T22:18:22.538161Z",
     "iopub.status.busy": "2025-03-31T22:18:22.537816Z",
     "iopub.status.idle": "2025-03-31T22:18:23.046991Z",
     "shell.execute_reply": "2025-03-31T22:18:23.046254Z"
    },
    "id": "lV_S5ZL5MidD",
    "papermill": {
     "duration": 0.521194,
     "end_time": "2025-03-31T22:18:23.048730",
     "exception": false,
     "start_time": "2025-03-31T22:18:22.527536",
     "status": "completed"
    },
    "tags": []
   },
   "outputs": [
    {
     "name": "stdout",
     "output_type": "stream",
     "text": [
      "Hello Zlork! It's nice to meet you. How can I help you today?\n",
      "\n"
     ]
    }
   ],
   "source": [
    "chat = client.chats.create(model='gemini-2.0-flash', history=[])\n",
    "response = chat.send_message('Hello! My name is Zlork.')\n",
    "print(response.text)"
   ]
  },
  {
   "cell_type": "code",
   "execution_count": 9,
   "id": "517e5dc4",
   "metadata": {
    "execution": {
     "iopub.execute_input": "2025-03-31T22:18:23.068325Z",
     "iopub.status.busy": "2025-03-31T22:18:23.067971Z",
     "iopub.status.idle": "2025-03-31T22:18:24.208388Z",
     "shell.execute_reply": "2025-03-31T22:18:24.207298Z"
    },
    "id": "7b0372c3c64a",
    "papermill": {
     "duration": 1.152221,
     "end_time": "2025-03-31T22:18:24.210145",
     "exception": false,
     "start_time": "2025-03-31T22:18:23.057924",
     "status": "completed"
    },
    "tags": []
   },
   "outputs": [
    {
     "name": "stdout",
     "output_type": "stream",
     "text": [
      "Okay, here's an interesting fact about dinosaurs:\n",
      "\n",
      "**Many dinosaurs, including Tyrannosaurus Rex, likely had feathers!**\n",
      "\n",
      "While we often picture dinosaurs as scaly reptiles, fossil evidence suggests that many theropods (the group that includes T. Rex) had feathers. These feathers weren't necessarily for flight, but more likely served purposes like insulation, display, or camouflage. Think of them like downy fuzz or quills rather than the full flight feathers of modern birds. This discovery has drastically changed how we visualize these magnificent creatures!\n",
      "\n"
     ]
    }
   ],
   "source": [
    "response = chat.send_message('Can you tell me something interesting about dinosaurs?')\n",
    "print(response.text)"
   ]
  },
  {
   "cell_type": "markdown",
   "id": "7b37e365",
   "metadata": {
    "papermill": {
     "duration": 0.00855,
     "end_time": "2025-03-31T22:18:24.227745",
     "exception": false,
     "start_time": "2025-03-31T22:18:24.219195",
     "status": "completed"
    },
    "tags": []
   },
   "source": [
    "While you have the `chat` object alive, the conversation state\n",
    "persists. Confirm that by asking if it knows the user's name."
   ]
  },
  {
   "cell_type": "code",
   "execution_count": 10,
   "id": "7294fd26",
   "metadata": {
    "execution": {
     "iopub.execute_input": "2025-03-31T22:18:24.246894Z",
     "iopub.status.busy": "2025-03-31T22:18:24.246582Z",
     "iopub.status.idle": "2025-03-31T22:18:24.692268Z",
     "shell.execute_reply": "2025-03-31T22:18:24.691037Z"
    },
    "id": "d3f9591392a7",
    "papermill": {
     "duration": 0.457558,
     "end_time": "2025-03-31T22:18:24.694180",
     "exception": false,
     "start_time": "2025-03-31T22:18:24.236622",
     "status": "completed"
    },
    "tags": []
   },
   "outputs": [
    {
     "name": "stdout",
     "output_type": "stream",
     "text": [
      "Yes, your name is Zlork.\n",
      "\n"
     ]
    }
   ],
   "source": [
    "response = chat.send_message('Do you remember what my name is?')\n",
    "print(response.text)"
   ]
  },
  {
   "cell_type": "markdown",
   "id": "58649b86",
   "metadata": {
    "id": "2KAjpr1200sW",
    "papermill": {
     "duration": 0.009747,
     "end_time": "2025-03-31T22:18:24.713375",
     "exception": false,
     "start_time": "2025-03-31T22:18:24.703628",
     "status": "completed"
    },
    "tags": []
   },
   "source": [
    "### Choose a model\n",
    "\n",
    "The Gemini API provides access to a number of models from the Gemini model family. Read about the available models and their capabilities on the [model overview page](https://ai.google.dev/gemini-api/docs/models/gemini).\n",
    "\n",
    "In this step you'll use the API to list all of the available models."
   ]
  },
  {
   "cell_type": "code",
   "execution_count": 11,
   "id": "befe1bab",
   "metadata": {
    "execution": {
     "iopub.execute_input": "2025-03-31T22:18:24.733724Z",
     "iopub.status.busy": "2025-03-31T22:18:24.733353Z",
     "iopub.status.idle": "2025-03-31T22:18:24.758782Z",
     "shell.execute_reply": "2025-03-31T22:18:24.757524Z"
    },
    "id": "uUUZa2uq2jDm",
    "papermill": {
     "duration": 0.037391,
     "end_time": "2025-03-31T22:18:24.760349",
     "exception": false,
     "start_time": "2025-03-31T22:18:24.722958",
     "status": "completed"
    },
    "tags": []
   },
   "outputs": [
    {
     "name": "stdout",
     "output_type": "stream",
     "text": [
      "models/chat-bison-001\n",
      "models/text-bison-001\n",
      "models/embedding-gecko-001\n",
      "models/gemini-1.0-pro-vision-latest\n",
      "models/gemini-pro-vision\n",
      "models/gemini-1.5-pro-latest\n",
      "models/gemini-1.5-pro-001\n",
      "models/gemini-1.5-pro-002\n",
      "models/gemini-1.5-pro\n",
      "models/gemini-1.5-flash-latest\n",
      "models/gemini-1.5-flash-001\n",
      "models/gemini-1.5-flash-001-tuning\n",
      "models/gemini-1.5-flash\n",
      "models/gemini-1.5-flash-002\n",
      "models/gemini-1.5-flash-8b\n",
      "models/gemini-1.5-flash-8b-001\n",
      "models/gemini-1.5-flash-8b-latest\n",
      "models/gemini-1.5-flash-8b-exp-0827\n",
      "models/gemini-1.5-flash-8b-exp-0924\n",
      "models/gemini-2.5-pro-exp-03-25\n",
      "models/gemini-2.0-flash-exp\n",
      "models/gemini-2.0-flash\n",
      "models/gemini-2.0-flash-001\n",
      "models/gemini-2.0-flash-exp-image-generation\n",
      "models/gemini-2.0-flash-lite-001\n",
      "models/gemini-2.0-flash-lite\n",
      "models/gemini-2.0-flash-lite-preview-02-05\n",
      "models/gemini-2.0-flash-lite-preview\n",
      "models/gemini-2.0-pro-exp\n",
      "models/gemini-2.0-pro-exp-02-05\n",
      "models/gemini-exp-1206\n",
      "models/gemini-2.0-flash-thinking-exp-01-21\n",
      "models/gemini-2.0-flash-thinking-exp\n",
      "models/gemini-2.0-flash-thinking-exp-1219\n",
      "models/learnlm-1.5-pro-experimental\n",
      "models/gemma-3-27b-it\n",
      "models/embedding-001\n",
      "models/text-embedding-004\n",
      "models/gemini-embedding-exp-03-07\n",
      "models/gemini-embedding-exp\n",
      "models/aqa\n",
      "models/imagen-3.0-generate-002\n"
     ]
    }
   ],
   "source": [
    "for model in client.models.list():\n",
    "  print(model.name)"
   ]
  },
  {
   "cell_type": "markdown",
   "id": "dc041aba",
   "metadata": {
    "id": "rN49kSI54R1v",
    "papermill": {
     "duration": 0.008624,
     "end_time": "2025-03-31T22:18:24.778136",
     "exception": false,
     "start_time": "2025-03-31T22:18:24.769512",
     "status": "completed"
    },
    "tags": []
   },
   "source": [
    "The [`models.list`](https://ai.google.dev/api/models#method:-models.list) response also returns additional information about the model's capabilities, like the token limits and supported parameters."
   ]
  },
  {
   "cell_type": "code",
   "execution_count": 12,
   "id": "f773b66b",
   "metadata": {
    "execution": {
     "iopub.execute_input": "2025-03-31T22:18:24.797202Z",
     "iopub.status.busy": "2025-03-31T22:18:24.796894Z",
     "iopub.status.idle": "2025-03-31T22:18:24.822332Z",
     "shell.execute_reply": "2025-03-31T22:18:24.821212Z"
    },
    "id": "k7JJ1K6j4Rl8",
    "papermill": {
     "duration": 0.037167,
     "end_time": "2025-03-31T22:18:24.824250",
     "exception": false,
     "start_time": "2025-03-31T22:18:24.787083",
     "status": "completed"
    },
    "tags": []
   },
   "outputs": [
    {
     "name": "stdout",
     "output_type": "stream",
     "text": [
      "{'description': 'Gemini 2.0 Flash',\n",
      " 'display_name': 'Gemini 2.0 Flash',\n",
      " 'input_token_limit': 1048576,\n",
      " 'name': 'models/gemini-2.0-flash',\n",
      " 'output_token_limit': 8192,\n",
      " 'supported_actions': ['generateContent', 'countTokens'],\n",
      " 'tuned_model_info': {},\n",
      " 'version': '2.0'}\n"
     ]
    }
   ],
   "source": [
    "from pprint import pprint\n",
    "\n",
    "for model in client.models.list():\n",
    "  if model.name == 'models/gemini-2.0-flash':\n",
    "    pprint(model.to_json_dict())\n",
    "    break"
   ]
  },
  {
   "cell_type": "markdown",
   "id": "cb7f79fa",
   "metadata": {
    "id": "5rU_UBlZdooM",
    "papermill": {
     "duration": 0.008503,
     "end_time": "2025-03-31T22:18:24.841971",
     "exception": false,
     "start_time": "2025-03-31T22:18:24.833468",
     "status": "completed"
    },
    "tags": []
   },
   "source": [
    "## Explore generation parameters\n",
    "\n"
   ]
  },
  {
   "cell_type": "markdown",
   "id": "ea41105e",
   "metadata": {
    "id": "G7NfEizeipbW",
    "papermill": {
     "duration": 0.008281,
     "end_time": "2025-03-31T22:18:24.858919",
     "exception": false,
     "start_time": "2025-03-31T22:18:24.850638",
     "status": "completed"
    },
    "tags": []
   },
   "source": [
    "### Output length\n",
    "\n",
    "When generating text with an LLM, the output length affects cost and performance. Generating more tokens increases computation, leading to higher energy consumption, latency, and cost.\n",
    "\n",
    "To stop the model from generating tokens past a limit, you can specify the `max_output_tokens` parameter when using the Gemini API. Specifying this parameter does not influence the generation of the output tokens, so the output will not become more stylistically or textually succinct, but it will stop generating tokens once the specified length is reached. Prompt engineering may be required to generate a more complete output for your given limit."
   ]
  },
  {
   "cell_type": "code",
   "execution_count": 13,
   "id": "76e78fd2",
   "metadata": {
    "execution": {
     "iopub.execute_input": "2025-03-31T22:18:24.877785Z",
     "iopub.status.busy": "2025-03-31T22:18:24.877307Z",
     "iopub.status.idle": "2025-03-31T22:18:26.315448Z",
     "shell.execute_reply": "2025-03-31T22:18:26.314187Z"
    },
    "id": "qVf23JsIi9ma",
    "papermill": {
     "duration": 1.450279,
     "end_time": "2025-03-31T22:18:26.317719",
     "exception": false,
     "start_time": "2025-03-31T22:18:24.867440",
     "status": "completed"
    },
    "tags": []
   },
   "outputs": [
    {
     "name": "stdout",
     "output_type": "stream",
     "text": [
      "## The Olive Branch Reaching into the Modern World: Importance Beyond Symbolism\n",
      "\n",
      "The olive, a humble fruit borne from the ancient olive tree (Olea europaea), holds a significance that extends far beyond its symbolic association with peace and victory. While its historical roots are deeply intertwined with the Mediterranean, the olive has transcended geographical boundaries, becoming a vital component of modern society, influencing cuisine, health, economy, and even the environment. Its importance lies not just in its distinctive flavor and versatility, but also in its multifaceted contributions to a sustainable and healthy lifestyle.\n",
      "\n",
      "One of the most obvious and appreciated contributions of the olive is its integral role in modern gastronomy. The olive, in its various forms, is a culinary chameleon, adaptable to a myriad of dishes and cuisines. As a table olive, it offers a spectrum of flavors – from the briny sharpness of Kalamata to the mild sweetness of Castelvetrano – providing a satisfying and versatile snack or appetizer. Stuffed with pimento, garlic\n"
     ]
    }
   ],
   "source": [
    "from google.genai import types\n",
    "\n",
    "short_config = types.GenerateContentConfig(max_output_tokens=200)\n",
    "\n",
    "response = client.models.generate_content(\n",
    "    model='gemini-2.0-flash',\n",
    "    config=short_config,\n",
    "    contents='Write a 1000 word essay on the importance of olives in modern society.')\n",
    "\n",
    "print(response.text)"
   ]
  },
  {
   "cell_type": "code",
   "execution_count": 14,
   "id": "addd35e7",
   "metadata": {
    "execution": {
     "iopub.execute_input": "2025-03-31T22:18:26.338480Z",
     "iopub.status.busy": "2025-03-31T22:18:26.337989Z",
     "iopub.status.idle": "2025-03-31T22:18:27.049535Z",
     "shell.execute_reply": "2025-03-31T22:18:27.048796Z"
    },
    "id": "W-3kR2F5kdMR",
    "papermill": {
     "duration": 0.724093,
     "end_time": "2025-03-31T22:18:27.051335",
     "exception": false,
     "start_time": "2025-03-31T22:18:26.327242",
     "status": "completed"
    },
    "tags": []
   },
   "outputs": [
    {
     "name": "stdout",
     "output_type": "stream",
     "text": [
      "From sun-kissed groves to jars aligned,\n",
      "A tiny fruit, of purpose kind.\n",
      "In salads tossed, or pressed for gold,\n",
      "A flavor deep, a story told.\n",
      "\n",
      "On pizzas bright, a briny grace,\n",
      "A tapenade, in time and space.\n",
      "A taste of earth, a healthy bite,\n",
      "Olives serve, both dark and light.\n",
      "\n"
     ]
    }
   ],
   "source": [
    "response = client.models.generate_content(\n",
    "    model='gemini-2.0-flash',\n",
    "    config=short_config,\n",
    "    contents='Write a short poem on the importance of olives in modern society.')\n",
    "\n",
    "print(response.text)"
   ]
  },
  {
   "cell_type": "markdown",
   "id": "ff247e9d",
   "metadata": {
    "id": "3ZhDSLB6lqqB",
    "papermill": {
     "duration": 0.008771,
     "end_time": "2025-03-31T22:18:27.069454",
     "exception": false,
     "start_time": "2025-03-31T22:18:27.060683",
     "status": "completed"
    },
    "tags": []
   },
   "source": [
    "Explore with your own prompts. Try a prompt with a restrictive output limit and then adjust the prompt to work within that limit."
   ]
  },
  {
   "cell_type": "markdown",
   "id": "59bbcac7",
   "metadata": {
    "id": "alx-WaAvir_9",
    "papermill": {
     "duration": 0.008642,
     "end_time": "2025-03-31T22:18:27.087104",
     "exception": false,
     "start_time": "2025-03-31T22:18:27.078462",
     "status": "completed"
    },
    "tags": []
   },
   "source": [
    "### Temperature\n",
    "\n",
    "Temperature controls the degree of randomness in token selection. Higher temperatures result in a higher number of candidate tokens from which the next output token is selected, and can produce more diverse results, while lower temperatures have the opposite effect, such that a temperature of 0 results in greedy decoding, selecting the most probable token at each step.\n",
    "\n",
    "Temperature doesn't provide any guarantees of randomness, but it can be used to \"nudge\" the output somewhat."
   ]
  },
  {
   "cell_type": "code",
   "execution_count": 15,
   "id": "26238c19",
   "metadata": {
    "execution": {
     "iopub.execute_input": "2025-03-31T22:18:27.106819Z",
     "iopub.status.busy": "2025-03-31T22:18:27.106506Z",
     "iopub.status.idle": "2025-03-31T22:18:28.271926Z",
     "shell.execute_reply": "2025-03-31T22:18:28.270941Z"
    },
    "id": "SHraGMzqnZqt",
    "papermill": {
     "duration": 1.177401,
     "end_time": "2025-03-31T22:18:28.273671",
     "exception": false,
     "start_time": "2025-03-31T22:18:27.096270",
     "status": "completed"
    },
    "tags": []
   },
   "outputs": [
    {
     "name": "stdout",
     "output_type": "stream",
     "text": [
      "Orange.\n",
      " -------------------------\n",
      "Turquoise\n",
      " -------------------------\n",
      "Turquoise\n",
      " -------------------------\n",
      "Turquoise\n",
      " -------------------------\n",
      "Orange\n",
      " -------------------------\n"
     ]
    }
   ],
   "source": [
    "high_temp_config = types.GenerateContentConfig(temperature=2.0)\n",
    "\n",
    "\n",
    "for _ in range(5):\n",
    "  response = client.models.generate_content(\n",
    "      model='gemini-2.0-flash',\n",
    "      config=high_temp_config,\n",
    "      contents='Pick a random colour... (respond in a single word)')\n",
    "\n",
    "  if response.text:\n",
    "    print(response.text, '-' * 25)"
   ]
  },
  {
   "cell_type": "markdown",
   "id": "a68d9d7d",
   "metadata": {
    "id": "z3J4pCTuof7e",
    "papermill": {
     "duration": 0.008996,
     "end_time": "2025-03-31T22:18:28.292327",
     "exception": false,
     "start_time": "2025-03-31T22:18:28.283331",
     "status": "completed"
    },
    "tags": []
   },
   "source": [
    "Now try the same prompt with temperature set to zero. Note that the output is not completely deterministic, as other parameters affect token selection, but the results will tend to be more stable."
   ]
  },
  {
   "cell_type": "code",
   "execution_count": 16,
   "id": "cfffdad9",
   "metadata": {
    "execution": {
     "iopub.execute_input": "2025-03-31T22:18:28.312814Z",
     "iopub.status.busy": "2025-03-31T22:18:28.312431Z",
     "iopub.status.idle": "2025-03-31T22:18:29.496713Z",
     "shell.execute_reply": "2025-03-31T22:18:29.495724Z"
    },
    "id": "clymkWv-PfUZ",
    "papermill": {
     "duration": 1.196781,
     "end_time": "2025-03-31T22:18:29.498575",
     "exception": false,
     "start_time": "2025-03-31T22:18:28.301794",
     "status": "completed"
    },
    "tags": []
   },
   "outputs": [
    {
     "name": "stdout",
     "output_type": "stream",
     "text": [
      "Azure\n",
      " -------------------------\n",
      "Azure\n",
      " -------------------------\n",
      "Azure\n",
      " -------------------------\n",
      "Azure\n",
      " -------------------------\n",
      "Azure\n",
      " -------------------------\n"
     ]
    }
   ],
   "source": [
    "low_temp_config = types.GenerateContentConfig(temperature=0.0)\n",
    "\n",
    "for _ in range(5):\n",
    "  response = client.models.generate_content(\n",
    "      model='gemini-2.0-flash',\n",
    "      config=low_temp_config,\n",
    "      contents='Pick a random colour... (respond in a single word)')\n",
    "\n",
    "  if response.text:\n",
    "    print(response.text, '-' * 25)"
   ]
  },
  {
   "cell_type": "markdown",
   "id": "6654740d",
   "metadata": {
    "id": "St5nt3vzitsZ",
    "papermill": {
     "duration": 0.008967,
     "end_time": "2025-03-31T22:18:29.517013",
     "exception": false,
     "start_time": "2025-03-31T22:18:29.508046",
     "status": "completed"
    },
    "tags": []
   },
   "source": [
    "### Top-P\n",
    "\n",
    "Like temperature, the top-P parameter is also used to control the diversity of the model's output.\n",
    "\n",
    "Top-P defines the probability threshold that, once cumulatively exceeded, tokens stop being selected as candidates. A top-P of 0 is typically equivalent to greedy decoding, and a top-P of 1 typically selects every token in the model's vocabulary.\n",
    "\n",
    "You may also see top-K referenced in LLM literature. Top-K is not configurable in the Gemini 2.0 series of models, but can be changed in older models. Top-K is a positive integer that defines the number of most probable tokens from which to select the output token. A top-K of 1 selects a single token, performing greedy decoding.\n",
    "\n",
    "\n",
    "Run this example a number of times, change the settings and observe the change in output."
   ]
  },
  {
   "cell_type": "code",
   "execution_count": 17,
   "id": "d94c32e4",
   "metadata": {
    "execution": {
     "iopub.execute_input": "2025-03-31T22:18:29.538003Z",
     "iopub.status.busy": "2025-03-31T22:18:29.537686Z",
     "iopub.status.idle": "2025-03-31T22:18:34.704784Z",
     "shell.execute_reply": "2025-03-31T22:18:34.703578Z"
    },
    "id": "lPlzpEavUV8F",
    "papermill": {
     "duration": 5.180219,
     "end_time": "2025-03-31T22:18:34.706522",
     "exception": false,
     "start_time": "2025-03-31T22:18:29.526303",
     "status": "completed"
    },
    "tags": []
   },
   "outputs": [
    {
     "name": "stdout",
     "output_type": "stream",
     "text": [
      "Jasper wasn't like the other cats on Primrose Lane. While they were content napping in sunbeams and batting at dust bunnies, Jasper harbored a restless spirit, a yearning for the unknown that thrummed beneath his tabby fur. He dreamt of whispering wind and rustling leaves, a world beyond the manicured lawns and bird feeders of suburbia.\n",
      "\n",
      "One Tuesday morning, the yearning became too strong to ignore. He watched, green eyes gleaming, as the delivery truck rumbled past. An empty cardboard box, discarded by the side of the road, beckoned. It was big, sturdy, and most importantly, it faced east. East, to him, meant adventure.\n",
      "\n",
      "Jasper leapt inside. The cardboard smelled faintly of apples, a promise of something sweeter than his usual salmon-flavored kibble. He curled up, imagining himself a stowaway on a grand vessel sailing towards the horizon. A gust of wind, a particularly enthusiastic shove, and the box began to roll.\n",
      "\n",
      "He tumbled, a furry astronaut in a cardboard spaceship, down Primrose Lane and onto the bustling High Street. The world exploded in a cacophony of honking cars and chattering pedestrians. Jasper, initially terrified, found himself strangely invigorated. This was it!\n",
      "\n",
      "The box bounced and swerved, narrowly avoiding a rogue shopping cart and a group of teenagers on scooters. He saw a flash of a bakery window, smelling of warm bread and cinnamon. A tantalizing aroma. He braced himself for impact, hoping he wouldn't end up face-planting into a pile of day-old croissants.\n",
      "\n",
      "His journey ended abruptly when the box slammed against a lamppost. Dazed, Jasper poked his head out. He was in a park! A verdant oasis in the concrete jungle, alive with squirrels, pigeons, and the scent of pine needles.\n",
      "\n",
      "He emerged from the box, stretching his legs. He spent the day exploring, chasing butterflies with sapphire wings, scaling ancient oak trees, and engaging in a tense staring contest with a particularly grumpy squirrel. He discovered a hidden pond, its surface shimmering like a thousand emeralds. He even dared to steal a bite of a discarded picnic sandwich, earning himself a scolding squawk from a robin.\n",
      "\n",
      "As twilight painted the sky in hues of orange and purple, Jasper felt a twinge of… something. Not regret, but a familiar ache. He missed the soft blankets and the gentle strokes of his human, Emily. The adventure had been exhilarating, but also…lonely.\n",
      "\n",
      "He found his box, now battered and bruised, and curled up inside, letting the familiar scent of apples comfort him. As luck would have it, the same delivery truck that had started his adventure was making its final rounds. The driver, recognizing the box, picked it up and placed it back on Primrose Lane.\n",
      "\n",
      "Jasper watched, heart pounding, as the truck stopped in front of his house. He slipped out of the box as Emily opened the door. \"Jasper! Where have you been?\" she cried, scooping him into a hug.\n",
      "\n",
      "He purred, burying his face in her soft hair. He didn't tell her about the rolling box, the busy street, or the grumpy squirrel. He knew she wouldn't understand. He simply purred louder, content to be home.\n",
      "\n",
      "But that night, as he lay curled on Emily's lap, Jasper dreamt of sapphire butterflies and emerald ponds. He knew, deep in his adventurous cat heart, that this was just the beginning. Primrose Lane was home, yes, but the world was a vast and exciting place, and he, Jasper, the tabby cat, was ready to explore it, one cardboard box at a time. The east wind called to him, promising untold adventures, and he, the brave and restless Jasper, would answer.\n",
      "\n"
     ]
    }
   ],
   "source": [
    "model_config = types.GenerateContentConfig(\n",
    "    # These are the default values for gemini-2.0-flash.\n",
    "    temperature=1.0,\n",
    "    top_p=0.95,\n",
    ")\n",
    "\n",
    "story_prompt = \"You are a creative writer. Write a short story about a cat who goes on an adventure.\"\n",
    "response = client.models.generate_content(\n",
    "    model='gemini-2.0-flash',\n",
    "    config=model_config,\n",
    "    contents=story_prompt)\n",
    "\n",
    "print(response.text)"
   ]
  },
  {
   "cell_type": "markdown",
   "id": "6d03fd75",
   "metadata": {
    "id": "rMrYs1koY6DX",
    "papermill": {
     "duration": 0.010763,
     "end_time": "2025-03-31T22:18:34.730839",
     "exception": false,
     "start_time": "2025-03-31T22:18:34.720076",
     "status": "completed"
    },
    "tags": []
   },
   "source": [
    "## Prompting\n",
    "\n",
    "This section contains some prompts from the chapter for you to try out directly in the API. Try changing the text here to see how each prompt performs with different instructions, more examples, or any other changes you can think of."
   ]
  },
  {
   "cell_type": "markdown",
   "id": "34c8ea6d",
   "metadata": {
    "id": "hhj_tQidZJP7",
    "papermill": {
     "duration": 0.010161,
     "end_time": "2025-03-31T22:18:34.750467",
     "exception": false,
     "start_time": "2025-03-31T22:18:34.740306",
     "status": "completed"
    },
    "tags": []
   },
   "source": [
    "### Zero-shot\n",
    "\n",
    "Zero-shot prompts are prompts that describe the request for the model directly.\n",
    "\n",
    "<table align=left>\n",
    "  <td>\n",
    "    <a target=\"_blank\" href=\"https://aistudio.google.com/prompts/1gzKKgDHwkAvexG5Up0LMtl1-6jKMKe4g\"><img src=\"https://ai.google.dev/site-assets/images/marketing/home/icon-ais.png\" style=\"height: 24px\" height=24/> Open in AI Studio</a>\n",
    "  </td>\n",
    "</table>"
   ]
  },
  {
   "cell_type": "code",
   "execution_count": 18,
   "id": "1016443f",
   "metadata": {
    "execution": {
     "iopub.execute_input": "2025-03-31T22:18:34.771773Z",
     "iopub.status.busy": "2025-03-31T22:18:34.771464Z",
     "iopub.status.idle": "2025-03-31T22:18:35.179275Z",
     "shell.execute_reply": "2025-03-31T22:18:35.178244Z"
    },
    "id": "1_t-cwnDZzbH",
    "papermill": {
     "duration": 0.420467,
     "end_time": "2025-03-31T22:18:35.180812",
     "exception": false,
     "start_time": "2025-03-31T22:18:34.760345",
     "status": "completed"
    },
    "tags": []
   },
   "outputs": [
    {
     "name": "stdout",
     "output_type": "stream",
     "text": [
      "POSITIVE\n",
      "\n"
     ]
    }
   ],
   "source": [
    "model_config = types.GenerateContentConfig(\n",
    "    temperature=0.1,\n",
    "    top_p=1,\n",
    "    max_output_tokens=5,\n",
    ")\n",
    "\n",
    "zero_shot_prompt = \"\"\"Classify movie reviews as POSITIVE, NEUTRAL or NEGATIVE.\n",
    "Review: \"Her\" is a disturbing study revealing the direction\n",
    "humanity is headed if AI is allowed to keep evolving,\n",
    "unchecked. I wish there were more movies like this masterpiece.\n",
    "Sentiment: \"\"\"\n",
    "\n",
    "response = client.models.generate_content(\n",
    "    model='gemini-2.0-flash',\n",
    "    config=model_config,\n",
    "    contents=zero_shot_prompt)\n",
    "\n",
    "print(response.text)"
   ]
  },
  {
   "cell_type": "markdown",
   "id": "87c7e329",
   "metadata": {
    "id": "3b5568bdeb11",
    "papermill": {
     "duration": 0.009126,
     "end_time": "2025-03-31T22:18:35.199597",
     "exception": false,
     "start_time": "2025-03-31T22:18:35.190471",
     "status": "completed"
    },
    "tags": []
   },
   "source": [
    "#### Enum mode\n",
    "\n",
    "The models are trained to generate text, and while the Gemini 2.0 models are great at following instructions, other models can sometimes produce more text than you may wish for. In the preceding example, the model will output the label, but sometimes it can include a preceding \"Sentiment\" label, and without an output token limit, it may also add explanatory text afterwards. See [this prompt in AI Studio](https://aistudio.google.com/prompts/1gzKKgDHwkAvexG5Up0LMtl1-6jKMKe4g) for an example.\n",
    "\n",
    "The Gemini API has an [Enum mode](https://github.com/google-gemini/cookbook/blob/main/quickstarts/Enum.ipynb) feature that allows you to constrain the output to a fixed set of values."
   ]
  },
  {
   "cell_type": "code",
   "execution_count": 19,
   "id": "79563ab8",
   "metadata": {
    "execution": {
     "iopub.execute_input": "2025-03-31T22:18:35.220262Z",
     "iopub.status.busy": "2025-03-31T22:18:35.219892Z",
     "iopub.status.idle": "2025-03-31T22:18:35.744342Z",
     "shell.execute_reply": "2025-03-31T22:18:35.743158Z"
    },
    "id": "ad118a56c598",
    "papermill": {
     "duration": 0.53697,
     "end_time": "2025-03-31T22:18:35.745906",
     "exception": false,
     "start_time": "2025-03-31T22:18:35.208936",
     "status": "completed"
    },
    "tags": []
   },
   "outputs": [
    {
     "name": "stdout",
     "output_type": "stream",
     "text": [
      "positive\n"
     ]
    }
   ],
   "source": [
    "import enum\n",
    "\n",
    "class Sentiment(enum.Enum):\n",
    "    POSITIVE = \"positive\"\n",
    "    NEUTRAL = \"neutral\"\n",
    "    NEGATIVE = \"negative\"\n",
    "\n",
    "\n",
    "response = client.models.generate_content(\n",
    "    model='gemini-2.0-flash',\n",
    "    config=types.GenerateContentConfig(\n",
    "        response_mime_type=\"text/x.enum\",\n",
    "        response_schema=Sentiment\n",
    "    ),\n",
    "    contents=zero_shot_prompt)\n",
    "\n",
    "print(response.text)"
   ]
  },
  {
   "cell_type": "markdown",
   "id": "c5fb67af",
   "metadata": {
    "papermill": {
     "duration": 0.009395,
     "end_time": "2025-03-31T22:18:35.765254",
     "exception": false,
     "start_time": "2025-03-31T22:18:35.755859",
     "status": "completed"
    },
    "tags": []
   },
   "source": [
    "When using constrained output like an enum, the Python SDK will attempt to convert the model's text response into a Python object automatically. It's stored in the `response.parsed` field."
   ]
  },
  {
   "cell_type": "code",
   "execution_count": 20,
   "id": "a92429b5",
   "metadata": {
    "execution": {
     "iopub.execute_input": "2025-03-31T22:18:35.787701Z",
     "iopub.status.busy": "2025-03-31T22:18:35.787356Z",
     "iopub.status.idle": "2025-03-31T22:18:35.791945Z",
     "shell.execute_reply": "2025-03-31T22:18:35.790875Z"
    },
    "papermill": {
     "duration": 0.017423,
     "end_time": "2025-03-31T22:18:35.793579",
     "exception": false,
     "start_time": "2025-03-31T22:18:35.776156",
     "status": "completed"
    },
    "tags": []
   },
   "outputs": [
    {
     "name": "stdout",
     "output_type": "stream",
     "text": [
      "Sentiment.POSITIVE\n",
      "<enum 'Sentiment'>\n"
     ]
    }
   ],
   "source": [
    "enum_response = response.parsed\n",
    "print(enum_response)\n",
    "print(type(enum_response))"
   ]
  },
  {
   "cell_type": "markdown",
   "id": "8f8dccb1",
   "metadata": {
    "id": "0udiSwNbv45W",
    "papermill": {
     "duration": 0.009748,
     "end_time": "2025-03-31T22:18:35.813597",
     "exception": false,
     "start_time": "2025-03-31T22:18:35.803849",
     "status": "completed"
    },
    "tags": []
   },
   "source": [
    "### One-shot and few-shot\n",
    "\n",
    "Providing an example of the expected response is known as a \"one-shot\" prompt. When you provide multiple examples, it is a \"few-shot\" prompt.\n",
    "\n",
    "<table align=left>\n",
    "  <td>\n",
    "    <a target=\"_blank\" href=\"https://aistudio.google.com/prompts/1jjWkjUSoMXmLvMJ7IzADr_GxHPJVV2bg\"><img src=\"https://ai.google.dev/site-assets/images/marketing/home/icon-ais.png\" style=\"height: 24px\" height=24/> Open in AI Studio</a>\n",
    "  </td>\n",
    "</table>\n"
   ]
  },
  {
   "cell_type": "code",
   "execution_count": 21,
   "id": "3ace6ad1",
   "metadata": {
    "execution": {
     "iopub.execute_input": "2025-03-31T22:18:35.835171Z",
     "iopub.status.busy": "2025-03-31T22:18:35.834803Z",
     "iopub.status.idle": "2025-03-31T22:18:36.381308Z",
     "shell.execute_reply": "2025-03-31T22:18:36.380584Z"
    },
    "id": "hd4mVUukwOKZ",
    "papermill": {
     "duration": 0.559694,
     "end_time": "2025-03-31T22:18:36.383243",
     "exception": false,
     "start_time": "2025-03-31T22:18:35.823549",
     "status": "completed"
    },
    "tags": []
   },
   "outputs": [
    {
     "name": "stdout",
     "output_type": "stream",
     "text": [
      "```json\n",
      "{\n",
      "\"size\": \"large\",\n",
      "\"type\": \"normal\",\n",
      "\"ingredients\": [\"cheese\", \"pineapple\"]\n",
      "}\n",
      "```\n",
      "\n"
     ]
    }
   ],
   "source": [
    "few_shot_prompt = \"\"\"Parse a customer's pizza order into valid JSON:\n",
    "\n",
    "EXAMPLE:\n",
    "I want a small pizza with cheese, tomato sauce, and pepperoni.\n",
    "JSON Response:\n",
    "```\n",
    "{\n",
    "\"size\": \"small\",\n",
    "\"type\": \"normal\",\n",
    "\"ingredients\": [\"cheese\", \"tomato sauce\", \"pepperoni\"]\n",
    "}\n",
    "```\n",
    "\n",
    "EXAMPLE:\n",
    "Can I get a large pizza with tomato sauce, basil and mozzarella\n",
    "JSON Response:\n",
    "```\n",
    "{\n",
    "\"size\": \"large\",\n",
    "\"type\": \"normal\",\n",
    "\"ingredients\": [\"tomato sauce\", \"basil\", \"mozzarella\"]\n",
    "}\n",
    "```\n",
    "\n",
    "ORDER:\n",
    "\"\"\"\n",
    "\n",
    "customer_order = \"Give me a large with cheese & pineapple\"\n",
    "\n",
    "response = client.models.generate_content(\n",
    "    model='gemini-2.0-flash',\n",
    "    config=types.GenerateContentConfig(\n",
    "        temperature=0.1,\n",
    "        top_p=1,\n",
    "        max_output_tokens=250,\n",
    "    ),\n",
    "    contents=[few_shot_prompt, customer_order])\n",
    "\n",
    "print(response.text)"
   ]
  },
  {
   "cell_type": "markdown",
   "id": "5293a988",
   "metadata": {
    "id": "021293096f08",
    "papermill": {
     "duration": 0.009456,
     "end_time": "2025-03-31T22:18:36.402438",
     "exception": false,
     "start_time": "2025-03-31T22:18:36.392982",
     "status": "completed"
    },
    "tags": []
   },
   "source": [
    "#### JSON mode\n",
    "\n",
    "To provide control over the schema, and to ensure that you only receive JSON (with no other text or markdown), you can use the Gemini API's [JSON mode](https://github.com/google-gemini/cookbook/blob/main/quickstarts/JSON_mode.ipynb). This forces the model to constrain decoding, such that token selection is guided by the supplied schema."
   ]
  },
  {
   "cell_type": "code",
   "execution_count": 22,
   "id": "29950451",
   "metadata": {
    "execution": {
     "iopub.execute_input": "2025-03-31T22:18:36.423291Z",
     "iopub.status.busy": "2025-03-31T22:18:36.422933Z",
     "iopub.status.idle": "2025-03-31T22:18:37.083954Z",
     "shell.execute_reply": "2025-03-31T22:18:37.083143Z"
    },
    "id": "50fbf0260912",
    "papermill": {
     "duration": 0.673945,
     "end_time": "2025-03-31T22:18:37.085951",
     "exception": false,
     "start_time": "2025-03-31T22:18:36.412006",
     "status": "completed"
    },
    "tags": []
   },
   "outputs": [
    {
     "name": "stdout",
     "output_type": "stream",
     "text": [
      "{\n",
      "  \"size\": \"large\",\n",
      "  \"ingredients\": [\"apple\", \"chocolate\"],\n",
      "  \"type\": \"dessert\"\n",
      "}\n"
     ]
    }
   ],
   "source": [
    "import typing_extensions as typing\n",
    "\n",
    "class PizzaOrder(typing.TypedDict):\n",
    "    size: str\n",
    "    ingredients: list[str]\n",
    "    type: str\n",
    "\n",
    "\n",
    "response = client.models.generate_content(\n",
    "    model='gemini-2.0-flash',\n",
    "    config=types.GenerateContentConfig(\n",
    "        temperature=0.1,\n",
    "        response_mime_type=\"application/json\",\n",
    "        response_schema=PizzaOrder,\n",
    "    ),\n",
    "    contents=\"Can I have a large dessert pizza with apple and chocolate\")\n",
    "\n",
    "print(response.text)"
   ]
  },
  {
   "cell_type": "markdown",
   "id": "e72c8692",
   "metadata": {
    "id": "4a93e338e57c",
    "papermill": {
     "duration": 0.010809,
     "end_time": "2025-03-31T22:18:37.106923",
     "exception": false,
     "start_time": "2025-03-31T22:18:37.096114",
     "status": "completed"
    },
    "tags": []
   },
   "source": [
    "### Chain of Thought (CoT)\n",
    "\n",
    "Direct prompting on LLMs can return answers quickly and (in terms of output token usage) efficiently, but they can be prone to hallucination. The answer may \"look\" correct (in terms of language and syntax) but is incorrect in terms of factuality and reasoning.\n",
    "\n",
    "Chain-of-Thought prompting is a technique where you instruct the model to output intermediate reasoning steps, and it typically gets better results, especially when combined with few-shot examples. It is worth noting that this technique doesn't completely eliminate hallucinations, and that it tends to cost more to run, due to the increased token count.\n",
    "\n",
    "Models like the Gemini family are trained to be \"chatty\" or \"thoughtful\" and will provide reasoning steps without prompting, so for this simple example you can ask the model to be more direct in the prompt to force a non-reasoning response. Try re-running this step if the model gets lucky and gets the answer correct on the first try."
   ]
  },
  {
   "cell_type": "code",
   "execution_count": 23,
   "id": "77ad5fdd",
   "metadata": {
    "execution": {
     "iopub.execute_input": "2025-03-31T22:18:37.127314Z",
     "iopub.status.busy": "2025-03-31T22:18:37.126978Z",
     "iopub.status.idle": "2025-03-31T22:18:37.551959Z",
     "shell.execute_reply": "2025-03-31T22:18:37.550856Z"
    },
    "id": "5715555db1c1",
    "papermill": {
     "duration": 0.437128,
     "end_time": "2025-03-31T22:18:37.553559",
     "exception": false,
     "start_time": "2025-03-31T22:18:37.116431",
     "status": "completed"
    },
    "tags": []
   },
   "outputs": [
    {
     "name": "stdout",
     "output_type": "stream",
     "text": [
      "52\n",
      "\n"
     ]
    }
   ],
   "source": [
    "prompt = \"\"\"When I was 4 years old, my partner was 3 times my age. Now, I\n",
    "am 20 years old. How old is my partner? Return the answer directly.\"\"\"\n",
    "\n",
    "response = client.models.generate_content(\n",
    "    model='gemini-2.0-flash',\n",
    "    contents=prompt)\n",
    "\n",
    "print(response.text)"
   ]
  },
  {
   "cell_type": "markdown",
   "id": "8121ff86",
   "metadata": {
    "id": "e12b19677bfd",
    "papermill": {
     "duration": 0.009684,
     "end_time": "2025-03-31T22:18:37.573929",
     "exception": false,
     "start_time": "2025-03-31T22:18:37.564245",
     "status": "completed"
    },
    "tags": []
   },
   "source": [
    "Now try the same approach, but indicate to the model that it should \"think step by step\"."
   ]
  },
  {
   "cell_type": "code",
   "execution_count": 24,
   "id": "682c7ac5",
   "metadata": {
    "execution": {
     "iopub.execute_input": "2025-03-31T22:18:37.595510Z",
     "iopub.status.busy": "2025-03-31T22:18:37.595166Z",
     "iopub.status.idle": "2025-03-31T22:18:38.392624Z",
     "shell.execute_reply": "2025-03-31T22:18:38.391651Z"
    },
    "id": "ffd7536a481f",
    "papermill": {
     "duration": 0.810296,
     "end_time": "2025-03-31T22:18:38.394321",
     "exception": false,
     "start_time": "2025-03-31T22:18:37.584025",
     "status": "completed"
    },
    "tags": []
   },
   "outputs": [
    {
     "data": {
      "text/markdown": [
       "Here's how to solve the problem step-by-step:\n",
       "\n",
       "1. **Find the age difference:** When you were 4, your partner was 3 times your age, meaning they were 4 * 3 = 12 years old.\n",
       "\n",
       "2. **Calculate the age gap:** The age difference between you and your partner is 12 - 4 = 8 years.\n",
       "\n",
       "3. **Determine the partner's current age:** Since the age difference remains constant, your partner is always 8 years older than you. Now that you are 20, your partner is 20 + 8 = 28 years old.\n",
       "\n",
       "**Answer:** Your partner is 28 years old.\n"
      ],
      "text/plain": [
       "<IPython.core.display.Markdown object>"
      ]
     },
     "execution_count": 24,
     "metadata": {},
     "output_type": "execute_result"
    }
   ],
   "source": [
    "prompt = \"\"\"When I was 4 years old, my partner was 3 times my age. Now,\n",
    "I am 20 years old. How old is my partner? Let's think step by step.\"\"\"\n",
    "\n",
    "response = client.models.generate_content(\n",
    "    model='gemini-2.0-flash',\n",
    "    contents=prompt)\n",
    "\n",
    "Markdown(response.text)"
   ]
  },
  {
   "cell_type": "markdown",
   "id": "2e5ab841",
   "metadata": {
    "id": "oiLgBQJj0V53",
    "papermill": {
     "duration": 0.009531,
     "end_time": "2025-03-31T22:18:38.414409",
     "exception": false,
     "start_time": "2025-03-31T22:18:38.404878",
     "status": "completed"
    },
    "tags": []
   },
   "source": [
    "### ReAct: Reason and act\n",
    "\n",
    "In this example you will run a ReAct prompt directly in the Gemini API and perform the searching steps yourself. As this prompt follows a well-defined structure, there are frameworks available that wrap the prompt into easier-to-use APIs that make tool calls automatically, such as the LangChain example from the \"Prompting\" whitepaper.\n",
    "\n",
    "To try this out with the Wikipedia search engine, check out the [Searching Wikipedia with ReAct](https://github.com/google-gemini/cookbook/blob/main/examples/Search_Wikipedia_using_ReAct.ipynb) cookbook example.\n",
    "\n",
    "\n",
    "> Note: The prompt and in-context examples used here are from [https://github.com/ysymyth/ReAct](https://github.com/ysymyth/ReAct) which is published under an [MIT license](https://opensource.org/licenses/MIT), Copyright (c) 2023 Shunyu Yao.\n",
    "\n",
    "<table align=left>\n",
    "  <td>\n",
    "    <a target=\"_blank\" href=\"https://aistudio.google.com/prompts/18oo63Lwosd-bQ6Ay51uGogB3Wk3H8XMO\"><img src=\"https://ai.google.dev/site-assets/images/marketing/home/icon-ais.png\" style=\"height: 24px\" height=24/> Open in AI Studio</a>\n",
    "  </td>\n",
    "</table>\n"
   ]
  },
  {
   "cell_type": "code",
   "execution_count": 25,
   "id": "d2118b48",
   "metadata": {
    "execution": {
     "iopub.execute_input": "2025-03-31T22:18:38.435732Z",
     "iopub.status.busy": "2025-03-31T22:18:38.435434Z",
     "iopub.status.idle": "2025-03-31T22:18:38.441108Z",
     "shell.execute_reply": "2025-03-31T22:18:38.440036Z"
    },
    "id": "cBgyNJ5z0VSs",
    "papermill": {
     "duration": 0.018175,
     "end_time": "2025-03-31T22:18:38.442645",
     "exception": false,
     "start_time": "2025-03-31T22:18:38.424470",
     "status": "completed"
    },
    "tags": []
   },
   "outputs": [],
   "source": [
    "model_instructions = \"\"\"\n",
    "Solve a question answering task with interleaving Thought, Action, Observation steps. Thought can reason about the current situation,\n",
    "Observation is understanding relevant information from an Action's output and Action can be one of three types:\n",
    " (1) <search>entity</search>, which searches the exact entity on Wikipedia and returns the first paragraph if it exists. If not, it\n",
    "     will return some similar entities to search and you can try to search the information from those topics.\n",
    " (2) <lookup>keyword</lookup>, which returns the next sentence containing keyword in the current context. This only does exact matches,\n",
    "     so keep your searches short.\n",
    " (3) <finish>answer</finish>, which returns the answer and finishes the task.\n",
    "\"\"\"\n",
    "\n",
    "example1 = \"\"\"Question\n",
    "Musician and satirist Allie Goertz wrote a song about the \"The Simpsons\" character Milhouse, who Matt Groening named after who?\n",
    "\n",
    "Thought 1\n",
    "The question simplifies to \"The Simpsons\" character Milhouse is named after who. I only need to search Milhouse and find who it is named after.\n",
    "\n",
    "Action 1\n",
    "<search>Milhouse</search>\n",
    "\n",
    "Observation 1\n",
    "Milhouse Mussolini Van Houten is a recurring character in the Fox animated television series The Simpsons voiced by Pamela Hayden and created by Matt Groening.\n",
    "\n",
    "Thought 2\n",
    "The paragraph does not tell who Milhouse is named after, maybe I can look up \"named after\".\n",
    "\n",
    "Action 2\n",
    "<lookup>named after</lookup>\n",
    "\n",
    "Observation 2\n",
    "Milhouse was named after U.S. president Richard Nixon, whose middle name was Milhous.\n",
    "\n",
    "Thought 3\n",
    "Milhouse was named after U.S. president Richard Nixon, so the answer is Richard Nixon.\n",
    "\n",
    "Action 3\n",
    "<finish>Richard Nixon</finish>\n",
    "\"\"\"\n",
    "\n",
    "example2 = \"\"\"Question\n",
    "What is the elevation range for the area that the eastern sector of the Colorado orogeny extends into?\n",
    "\n",
    "Thought 1\n",
    "I need to search Colorado orogeny, find the area that the eastern sector of the Colorado orogeny extends into, then find the elevation range of the area.\n",
    "\n",
    "Action 1\n",
    "<search>Colorado orogeny</search>\n",
    "\n",
    "Observation 1\n",
    "The Colorado orogeny was an episode of mountain building (an orogeny) in Colorado and surrounding areas.\n",
    "\n",
    "Thought 2\n",
    "It does not mention the eastern sector. So I need to look up eastern sector.\n",
    "\n",
    "Action 2\n",
    "<lookup>eastern sector</lookup>\n",
    "\n",
    "Observation 2\n",
    "The eastern sector extends into the High Plains and is called the Central Plains orogeny.\n",
    "\n",
    "Thought 3\n",
    "The eastern sector of Colorado orogeny extends into the High Plains. So I need to search High Plains and find its elevation range.\n",
    "\n",
    "Action 3\n",
    "<search>High Plains</search>\n",
    "\n",
    "Observation 3\n",
    "High Plains refers to one of two distinct land regions\n",
    "\n",
    "Thought 4\n",
    "I need to instead search High Plains (United States).\n",
    "\n",
    "Action 4\n",
    "<search>High Plains (United States)</search>\n",
    "\n",
    "Observation 4\n",
    "The High Plains are a subregion of the Great Plains. From east to west, the High Plains rise in elevation from around 1,800 to 7,000 ft (550 to 2,130m).\n",
    "\n",
    "Thought 5\n",
    "High Plains rise in elevation from around 1,800 to 7,000 ft, so the answer is 1,800 to 7,000 ft.\n",
    "\n",
    "Action 5\n",
    "<finish>1,800 to 7,000 ft</finish>\n",
    "\"\"\"\n",
    "\n",
    "# Come up with more examples yourself, or take a look through https://github.com/ysymyth/ReAct/"
   ]
  },
  {
   "cell_type": "markdown",
   "id": "1b623f58",
   "metadata": {
    "id": "C3wbfstjTgey",
    "papermill": {
     "duration": 0.009224,
     "end_time": "2025-03-31T22:18:38.461856",
     "exception": false,
     "start_time": "2025-03-31T22:18:38.452632",
     "status": "completed"
    },
    "tags": []
   },
   "source": [
    "To capture a single step at a time, while ignoring any hallucinated Observation steps, you will use `stop_sequences` to end the generation process. The steps are `Thought`, `Action`, `Observation`, in that order."
   ]
  },
  {
   "cell_type": "code",
   "execution_count": 26,
   "id": "50ef34f3",
   "metadata": {
    "execution": {
     "iopub.execute_input": "2025-03-31T22:18:38.482635Z",
     "iopub.status.busy": "2025-03-31T22:18:38.481892Z",
     "iopub.status.idle": "2025-03-31T22:18:39.059054Z",
     "shell.execute_reply": "2025-03-31T22:18:39.058235Z"
    },
    "id": "8mxrXRkRTdXm",
    "papermill": {
     "duration": 0.589855,
     "end_time": "2025-03-31T22:18:39.061203",
     "exception": false,
     "start_time": "2025-03-31T22:18:38.471348",
     "status": "completed"
    },
    "tags": []
   },
   "outputs": [
    {
     "name": "stdout",
     "output_type": "stream",
     "text": [
      "Thought 1\n",
      "I need to find the Transformers NLP paper, then find the youngest author listed on the paper.\n",
      "\n",
      "Action 1\n",
      "<search>Transformers NLP paper</search>\n",
      "\n"
     ]
    }
   ],
   "source": [
    "question = \"\"\"Question\n",
    "Who was the youngest author listed on the transformers NLP paper?\n",
    "\"\"\"\n",
    "\n",
    "# You will perform the Action; so generate up to, but not including, the Observation.\n",
    "react_config = types.GenerateContentConfig(\n",
    "    stop_sequences=[\"\\nObservation\"],\n",
    "    system_instruction=model_instructions + example1 + example2,\n",
    ")\n",
    "\n",
    "# Create a chat that has the model instructions and examples pre-seeded.\n",
    "react_chat = client.chats.create(\n",
    "    model='gemini-2.0-flash',\n",
    "    config=react_config,\n",
    ")\n",
    "\n",
    "resp = react_chat.send_message(question)\n",
    "print(resp.text)"
   ]
  },
  {
   "cell_type": "markdown",
   "id": "ca249259",
   "metadata": {
    "id": "aW2PIdLbVv3l",
    "papermill": {
     "duration": 0.009809,
     "end_time": "2025-03-31T22:18:39.081447",
     "exception": false,
     "start_time": "2025-03-31T22:18:39.071638",
     "status": "completed"
    },
    "tags": []
   },
   "source": [
    "Now you can perform this research yourself and supply it back to the model."
   ]
  },
  {
   "cell_type": "code",
   "execution_count": 27,
   "id": "ea4afa6a",
   "metadata": {
    "execution": {
     "iopub.execute_input": "2025-03-31T22:18:39.104205Z",
     "iopub.status.busy": "2025-03-31T22:18:39.103842Z",
     "iopub.status.idle": "2025-03-31T22:18:39.775951Z",
     "shell.execute_reply": "2025-03-31T22:18:39.775209Z"
    },
    "id": "mLMc0DZaV9g2",
    "papermill": {
     "duration": 0.686963,
     "end_time": "2025-03-31T22:18:39.778735",
     "exception": false,
     "start_time": "2025-03-31T22:18:39.091772",
     "status": "completed"
    },
    "tags": []
   },
   "outputs": [
    {
     "name": "stdout",
     "output_type": "stream",
     "text": [
      "Thought 2\n",
      "I have the authors of the paper. Now I need to find the youngest author. I can search for each author to find their birthdate.\n",
      "\n",
      "Action 2\n",
      "<search>Ashish Vaswani birthdate</search>\n",
      "\n"
     ]
    }
   ],
   "source": [
    "observation = \"\"\"Observation 1\n",
    "[1706.03762] Attention Is All You Need\n",
    "Ashish Vaswani, Noam Shazeer, Niki Parmar, Jakob Uszkoreit, Llion Jones, Aidan N. Gomez, Lukasz Kaiser, Illia Polosukhin\n",
    "We propose a new simple network architecture, the Transformer, based solely on attention mechanisms, dispensing with recurrence and convolutions entirely.\n",
    "\"\"\"\n",
    "resp = react_chat.send_message(observation)\n",
    "print(resp.text)"
   ]
  },
  {
   "cell_type": "markdown",
   "id": "a90dd6a7",
   "metadata": {
    "id": "bo0tzf4nX6dA",
    "papermill": {
     "duration": 0.009899,
     "end_time": "2025-03-31T22:18:39.800796",
     "exception": false,
     "start_time": "2025-03-31T22:18:39.790897",
     "status": "completed"
    },
    "tags": []
   },
   "source": [
    "This process repeats until the `<finish>` action is reached. You can continue running this yourself if you like, or try the [Wikipedia example](https://github.com/google-gemini/cookbook/blob/main/examples/Search_Wikipedia_using_ReAct.ipynb) to see a fully automated ReAct system at work."
   ]
  },
  {
   "cell_type": "markdown",
   "id": "8ceff795",
   "metadata": {
    "papermill": {
     "duration": 0.010049,
     "end_time": "2025-03-31T22:18:39.821057",
     "exception": false,
     "start_time": "2025-03-31T22:18:39.811008",
     "status": "completed"
    },
    "tags": []
   },
   "source": [
    "## Thinking mode\n",
    "\n",
    "The experiemental Gemini Flash 2.0 \"Thinking\" model has been trained to generate the \"thinking process\" the model goes through as part of its response. As a result, the Flash Thinking model is capable of stronger reasoning capabilities in its responses.\n",
    "\n",
    "Using a \"thinking mode\" model can provide you with high-quality responses without needing specialised prompting like the previous approaches. One reason this technique is effective is that you induce the model to generate relevant information (\"brainstorming\", or \"thoughts\") that is then used as part of the context in which the final response is generated.\n",
    "\n",
    "Note that when you use the API, you get the final response from the model, but the thoughts are not captured. To see the intermediate thoughts, try out [the thinking mode model in AI Studio](https://aistudio.google.com/prompts/new_chat?model=gemini-2.0-flash-thinking-exp-01-21).\n",
    "\n",
    "<table align=left>\n",
    "  <td>\n",
    "    <a target=\"_blank\" href=\"https://aistudio.google.com/prompts/1Z991SV7lZZZqioOiqIUPv9a9ix-ws4zk\"><img src=\"https://ai.google.dev/site-assets/images/marketing/home/icon-ais.png\" style=\"height: 24px\" height=24/> Open in AI Studio</a>\n",
    "  </td>\n",
    "</table>"
   ]
  },
  {
   "cell_type": "code",
   "execution_count": 28,
   "id": "c8cf3036",
   "metadata": {
    "execution": {
     "iopub.execute_input": "2025-03-31T22:18:39.843216Z",
     "iopub.status.busy": "2025-03-31T22:18:39.842877Z",
     "iopub.status.idle": "2025-03-31T22:18:46.174254Z",
     "shell.execute_reply": "2025-03-31T22:18:46.173359Z"
    },
    "papermill": {
     "duration": 6.344299,
     "end_time": "2025-03-31T22:18:46.175785",
     "exception": false,
     "start_time": "2025-03-31T22:18:39.831486",
     "status": "completed"
    },
    "tags": []
   },
   "outputs": [
    {
     "data": {
      "text/markdown": [
       "Based on the information available online, and considering the authors of the seminal paper \"Attention is All You Need\" (which introduced the Transformer architecture in NLP), the youngest author is likely **Aidan N. Gomez**.\n",
       "\n",
       "Here's why:\n",
       "\n",
       "* **Aidan N. Gomez** was a PhD student at the University of Toronto when the paper was published in 2017.  Being a PhD student generally indicates a younger age compared to researchers and staff scientists at large companies like Google (where many of the other authors were affiliated).\n",
       "\n",
       "* The other authors were mostly researchers at Google Brain, which usually implies more established careers and therefore, likely older ages.\n",
       "\n",
       "**It's important to note:**\n",
       "\n",
       "* **We don't have definitive birthdates for all authors publicly available.** This assessment is based on typical career trajectories and affiliations within academia and industry.\n",
       "* **\"Youngest\" is relative.**  All the authors were likely talented and relatively young in their fields at the time, but Aidan N. Gomez's student status strongly suggests he was the youngest among them.\n",
       "\n",
       "Therefore, while we can't be absolutely certain without birthdates, **Aidan N. Gomez is the most probable answer** to your question based on the available context and common understanding of academic career stages."
      ],
      "text/plain": [
       "<IPython.core.display.Markdown object>"
      ]
     },
     "execution_count": 28,
     "metadata": {},
     "output_type": "execute_result"
    }
   ],
   "source": [
    "import io\n",
    "from IPython.display import Markdown, clear_output\n",
    "\n",
    "\n",
    "response = client.models.generate_content_stream(\n",
    "    model='gemini-2.0-flash-thinking-exp',\n",
    "    contents='Who was the youngest author listed on the transformers NLP paper?',\n",
    ")\n",
    "\n",
    "buf = io.StringIO()\n",
    "for chunk in response:\n",
    "    buf.write(chunk.text)\n",
    "    # Display the response as it is streamed\n",
    "    print(chunk.text, end='')\n",
    "\n",
    "# And then render the finished response as formatted markdown.\n",
    "clear_output()\n",
    "Markdown(buf.getvalue())"
   ]
  },
  {
   "cell_type": "markdown",
   "id": "11a3473c",
   "metadata": {
    "id": "jPiZ_eIIaVPt",
    "papermill": {
     "duration": 0.009661,
     "end_time": "2025-03-31T22:18:46.195817",
     "exception": false,
     "start_time": "2025-03-31T22:18:46.186156",
     "status": "completed"
    },
    "tags": []
   },
   "source": [
    "## Code prompting"
   ]
  },
  {
   "cell_type": "markdown",
   "id": "bb22e489",
   "metadata": {
    "id": "ZinKamwXeR6C",
    "papermill": {
     "duration": 0.009602,
     "end_time": "2025-03-31T22:18:46.215303",
     "exception": false,
     "start_time": "2025-03-31T22:18:46.205701",
     "status": "completed"
    },
    "tags": []
   },
   "source": [
    "### Generating code\n",
    "\n",
    "The Gemini family of models can be used to generate code, configuration and scripts. Generating code can be helpful when learning to code, learning a new language or for rapidly generating a first draft.\n",
    "\n",
    "It's important to be aware that since LLMs can make mistakes, and can repeat training data, it's essential to read and test your code first, and comply with any relevant licenses.\n",
    "\n",
    "<table align=left>\n",
    "  <td>\n",
    "    <a target=\"_blank\" href=\"https://aistudio.google.com/prompts/1YX71JGtzDjXQkgdes8bP6i3oH5lCRKxv\"><img src=\"https://ai.google.dev/site-assets/images/marketing/home/icon-ais.png\" style=\"height: 24px\" height=24/> Open in AI Studio</a>\n",
    "  </td>\n",
    "</table>"
   ]
  },
  {
   "cell_type": "code",
   "execution_count": 29,
   "id": "bad9316f",
   "metadata": {
    "execution": {
     "iopub.execute_input": "2025-03-31T22:18:46.236533Z",
     "iopub.status.busy": "2025-03-31T22:18:46.236214Z",
     "iopub.status.idle": "2025-03-31T22:18:47.817082Z",
     "shell.execute_reply": "2025-03-31T22:18:47.816284Z"
    },
    "id": "fOQP9pqmeUO1",
    "papermill": {
     "duration": 1.593732,
     "end_time": "2025-03-31T22:18:47.818881",
     "exception": false,
     "start_time": "2025-03-31T22:18:46.225149",
     "status": "completed"
    },
    "tags": []
   },
   "outputs": [
    {
     "data": {
      "text/markdown": [
       "```python\n",
       "def factorial(n):\n",
       "  \"\"\"\n",
       "  Calculates the factorial of a non-negative integer.\n",
       "\n",
       "  Args:\n",
       "    n: A non-negative integer.\n",
       "\n",
       "  Returns:\n",
       "    The factorial of n. Returns 1 if n is 0.\n",
       "    Raises ValueError if n is negative.\n",
       "  \"\"\"\n",
       "  if n < 0:\n",
       "    raise ValueError(\"Factorial is not defined for negative numbers.\")\n",
       "  if n == 0:\n",
       "    return 1\n",
       "  else:\n",
       "    result = 1\n",
       "    for i in range(1, n + 1):\n",
       "      result *= i\n",
       "    return result\n",
       "```"
      ],
      "text/plain": [
       "<IPython.core.display.Markdown object>"
      ]
     },
     "execution_count": 29,
     "metadata": {},
     "output_type": "execute_result"
    }
   ],
   "source": [
    "# The Gemini models love to talk, so it helps to specify they stick to the code if that\n",
    "# is all that you want.\n",
    "code_prompt = \"\"\"\n",
    "Write a Python function to calculate the factorial of a number. No explanation, provide only the code.\n",
    "\"\"\"\n",
    "\n",
    "response = client.models.generate_content(\n",
    "    model='gemini-2.0-flash',\n",
    "    config=types.GenerateContentConfig(\n",
    "        temperature=1,\n",
    "        top_p=1,\n",
    "        max_output_tokens=1024,\n",
    "    ),\n",
    "    contents=code_prompt)\n",
    "\n",
    "Markdown(response.text)"
   ]
  },
  {
   "cell_type": "markdown",
   "id": "e5365249",
   "metadata": {
    "id": "wlBMWSFhgVRQ",
    "papermill": {
     "duration": 0.014237,
     "end_time": "2025-03-31T22:18:47.843958",
     "exception": false,
     "start_time": "2025-03-31T22:18:47.829721",
     "status": "completed"
    },
    "tags": []
   },
   "source": [
    "### Code execution\n",
    "\n",
    "The Gemini API can automatically run generated code too, and will return the output.\n",
    "\n",
    "<table align=left>\n",
    "  <td>\n",
    "    <a target=\"_blank\" href=\"https://aistudio.google.com/prompts/11veFr_VYEwBWcLkhNLr-maCG0G8sS_7Z\"><img src=\"https://ai.google.dev/site-assets/images/marketing/home/icon-ais.png\" style=\"height: 24px\" height=24/> Open in AI Studio</a>\n",
    "  </td>\n",
    "</table>"
   ]
  },
  {
   "cell_type": "code",
   "execution_count": 30,
   "id": "5d637ea0",
   "metadata": {
    "execution": {
     "iopub.execute_input": "2025-03-31T22:18:47.867344Z",
     "iopub.status.busy": "2025-03-31T22:18:47.866139Z",
     "iopub.status.idle": "2025-03-31T22:18:49.880412Z",
     "shell.execute_reply": "2025-03-31T22:18:49.879187Z"
    },
    "id": "jT3OfWYfhjRL",
    "papermill": {
     "duration": 2.027944,
     "end_time": "2025-03-31T22:18:49.882381",
     "exception": false,
     "start_time": "2025-03-31T22:18:47.854437",
     "status": "completed"
    },
    "tags": []
   },
   "outputs": [
    {
     "name": "stdout",
     "output_type": "stream",
     "text": [
      "{'text': 'Okay, I can do that. First, I will generate the first 14 odd prime '\n",
      "         'numbers, and then I will calculate their sum. Prime numbers are '\n",
      "         'numbers greater than 1 that have only two divisors: 1 and '\n",
      "         'themselves. Odd prime numbers are prime numbers that are not '\n",
      "         'divisible by 2. The first few prime numbers are 2, 3, 5, 7, 11, etc. '\n",
      "         'I need to exclude 2 as it is the only even prime.\\n'\n",
      "         '\\n'}\n",
      "-----\n",
      "{'executable_code': {'code': 'primes = [3, 5, 7, 11, 13, 17, 19, 23, 29, 31, '\n",
      "                             '37, 41, 43, 47]\\n'\n",
      "                             \"print(f'{primes=}')\\n\"\n",
      "                             \"print(f'{sum(primes)=}')\\n\",\n",
      "                     'language': 'PYTHON'}}\n",
      "-----\n",
      "{'code_execution_result': {'outcome': 'OUTCOME_OK',\n",
      "                           'output': 'primes=[3, 5, 7, 11, 13, 17, 19, 23, 29, '\n",
      "                                     '31, 37, 41, 43, 47]\\n'\n",
      "                                     'sum(primes)=326\\n'}}\n",
      "-----\n",
      "{'text': 'The first 14 odd prime numbers are 3, 5, 7, 11, 13, 17, 19, 23, 29, '\n",
      "         '31, 37, 41, 43, and 47. Their sum is 326.\\n'}\n",
      "-----\n"
     ]
    }
   ],
   "source": [
    "from pprint import pprint\n",
    "\n",
    "config = types.GenerateContentConfig(\n",
    "    tools=[types.Tool(code_execution=types.ToolCodeExecution())],\n",
    ")\n",
    "\n",
    "code_exec_prompt = \"\"\"\n",
    "Generate the first 14 odd prime numbers, then calculate their sum.\n",
    "\"\"\"\n",
    "\n",
    "response = client.models.generate_content(\n",
    "    model='gemini-2.0-flash',\n",
    "    config=config,\n",
    "    contents=code_exec_prompt)\n",
    "\n",
    "for part in response.candidates[0].content.parts:\n",
    "  pprint(part.to_json_dict())\n",
    "  print(\"-----\")"
   ]
  },
  {
   "cell_type": "markdown",
   "id": "9a8dcff4",
   "metadata": {
    "id": "ZspT1GSkjG6d",
    "papermill": {
     "duration": 0.01012,
     "end_time": "2025-03-31T22:18:49.903512",
     "exception": false,
     "start_time": "2025-03-31T22:18:49.893392",
     "status": "completed"
    },
    "tags": []
   },
   "source": [
    "This response contains multiple parts, including an opening and closing text part that represent regular responses, an `executable_code` part that represents generated code and a `code_execution_result` part that represents the results from running the generated code.\n",
    "\n",
    "You can explore them individually."
   ]
  },
  {
   "cell_type": "code",
   "execution_count": 31,
   "id": "cf40a519",
   "metadata": {
    "execution": {
     "iopub.execute_input": "2025-03-31T22:18:49.925848Z",
     "iopub.status.busy": "2025-03-31T22:18:49.925504Z",
     "iopub.status.idle": "2025-03-31T22:18:49.936403Z",
     "shell.execute_reply": "2025-03-31T22:18:49.935627Z"
    },
    "papermill": {
     "duration": 0.023893,
     "end_time": "2025-03-31T22:18:49.937853",
     "exception": false,
     "start_time": "2025-03-31T22:18:49.913960",
     "status": "completed"
    },
    "tags": []
   },
   "outputs": [
    {
     "data": {
      "text/markdown": [
       "Okay, I can do that. First, I will generate the first 14 odd prime numbers, and then I will calculate their sum. Prime numbers are numbers greater than 1 that have only two divisors: 1 and themselves. Odd prime numbers are prime numbers that are not divisible by 2. The first few prime numbers are 2, 3, 5, 7, 11, etc. I need to exclude 2 as it is the only even prime.\n",
       "\n"
      ],
      "text/plain": [
       "<IPython.core.display.Markdown object>"
      ]
     },
     "metadata": {},
     "output_type": "display_data"
    },
    {
     "data": {
      "text/markdown": [
       "```python\n",
       "primes = [3, 5, 7, 11, 13, 17, 19, 23, 29, 31, 37, 41, 43, 47]\n",
       "print(f'{primes=}')\n",
       "print(f'{sum(primes)=}')\n",
       "\n",
       "```"
      ],
      "text/plain": [
       "<IPython.core.display.Markdown object>"
      ]
     },
     "metadata": {},
     "output_type": "display_data"
    },
    {
     "data": {
      "text/markdown": [
       "```\n",
       "primes=[3, 5, 7, 11, 13, 17, 19, 23, 29, 31, 37, 41, 43, 47]\n",
       "sum(primes)=326\n",
       "\n",
       "```"
      ],
      "text/plain": [
       "<IPython.core.display.Markdown object>"
      ]
     },
     "metadata": {},
     "output_type": "display_data"
    },
    {
     "data": {
      "text/markdown": [
       "The first 14 odd prime numbers are 3, 5, 7, 11, 13, 17, 19, 23, 29, 31, 37, 41, 43, and 47. Their sum is 326.\n"
      ],
      "text/plain": [
       "<IPython.core.display.Markdown object>"
      ]
     },
     "metadata": {},
     "output_type": "display_data"
    }
   ],
   "source": [
    "for part in response.candidates[0].content.parts:\n",
    "    if part.text:\n",
    "        display(Markdown(part.text))\n",
    "    elif part.executable_code:\n",
    "        display(Markdown(f'```python\\n{part.executable_code.code}\\n```'))\n",
    "    elif part.code_execution_result:\n",
    "        if part.code_execution_result.outcome != 'OUTCOME_OK':\n",
    "            display(Markdown(f'## Status {part.code_execution_result.outcome}'))\n",
    "\n",
    "        display(Markdown(f'```\\n{part.code_execution_result.output}\\n```'))"
   ]
  },
  {
   "cell_type": "markdown",
   "id": "67e05453",
   "metadata": {
    "id": "1gUX8QzCj4d5",
    "papermill": {
     "duration": 0.010577,
     "end_time": "2025-03-31T22:18:49.959751",
     "exception": false,
     "start_time": "2025-03-31T22:18:49.949174",
     "status": "completed"
    },
    "tags": []
   },
   "source": [
    "### Explaining code\n",
    "\n",
    "The Gemini family of models can explain code to you too. In this example, you pass a [bash script](https://github.com/magicmonty/bash-git-prompt) and ask some questions.\n",
    "\n",
    "<table align=left>\n",
    "  <td>\n",
    "    <a target=\"_blank\" href=\"https://aistudio.google.com/prompts/1N7LGzWzCYieyOf_7bAG4plrmkpDNmUyb\"><img src=\"https://ai.google.dev/site-assets/images/marketing/home/icon-ais.png\" style=\"height: 24px\" height=24/> Open in AI Studio</a>\n",
    "  </td>\n",
    "</table>"
   ]
  },
  {
   "cell_type": "code",
   "execution_count": 32,
   "id": "db262f3e",
   "metadata": {
    "execution": {
     "iopub.execute_input": "2025-03-31T22:18:49.983260Z",
     "iopub.status.busy": "2025-03-31T22:18:49.982883Z",
     "iopub.status.idle": "2025-03-31T22:18:52.532206Z",
     "shell.execute_reply": "2025-03-31T22:18:52.531282Z"
    },
    "id": "7_jPMMoxkIEb",
    "papermill": {
     "duration": 2.563092,
     "end_time": "2025-03-31T22:18:52.533861",
     "exception": false,
     "start_time": "2025-03-31T22:18:49.970769",
     "status": "completed"
    },
    "tags": []
   },
   "outputs": [
    {
     "data": {
      "text/markdown": [
       "This file is a **Bash script designed to enhance your command-line prompt with information about the current Git repository.**  It's commonly known as `bash-git-prompt`.\n",
       "\n",
       "Here's a high-level breakdown:\n",
       "\n",
       "*   **What it is:** A set of Bash functions and configurations that, when sourced, modify your shell prompt to display Git-related information. This information can include the current branch, the status of the working directory (e.g., staged, unstaged, untracked changes), the relationship to remote branches (ahead, behind), and more. It also includes color customization.\n",
       "*   **Why you'd use it:**\n",
       "    *   **Instant Git Status:**  Quickly see the state of your Git repository without having to type `git status` all the time.\n",
       "    *   **Improved Workflow:**  A more informative prompt helps you stay aware of your Git workflow, reducing errors and increasing efficiency.\n",
       "    *   **Customization:** The script is highly customizable, allowing you to tailor the prompt to show exactly the information you need and in the colors you prefer.\n",
       "    *   **Visual Cues:** Provides clear visual cues about the repository's state, making it easy to identify uncommitted changes, conflicts, or other important details.\n",
       "    *   **Virtual Environment Support:** It supports displaying the active Python (or Node or Conda) virtual environment in your prompt, if you are using one.\n",
       "\n",
       "In essence, `bash-git-prompt` makes working with Git in the command line more convenient and informative by integrating Git status directly into your shell prompt.\n",
       "\n",
       "To use it, you would typically source this script in your `.bashrc` or `.zshrc` file, which are shell configuration files that are executed when you open a new terminal."
      ],
      "text/plain": [
       "<IPython.core.display.Markdown object>"
      ]
     },
     "execution_count": 32,
     "metadata": {},
     "output_type": "execute_result"
    }
   ],
   "source": [
    "file_contents = !curl https://raw.githubusercontent.com/magicmonty/bash-git-prompt/refs/heads/master/gitprompt.sh\n",
    "\n",
    "explain_prompt = f\"\"\"\n",
    "Please explain what this file does at a very high level. What is it, and why would I use it?\n",
    "\n",
    "```\n",
    "{file_contents}\n",
    "```\n",
    "\"\"\"\n",
    "\n",
    "response = client.models.generate_content(\n",
    "    model='gemini-2.0-flash',\n",
    "    contents=explain_prompt)\n",
    "\n",
    "Markdown(response.text)"
   ]
  },
  {
   "cell_type": "markdown",
   "id": "604eaa54",
   "metadata": {
    "id": "2a8266d97ce5",
    "papermill": {
     "duration": 0.010535,
     "end_time": "2025-03-31T22:18:52.555261",
     "exception": false,
     "start_time": "2025-03-31T22:18:52.544726",
     "status": "completed"
    },
    "tags": []
   },
   "source": [
    "## Learn more\n",
    "\n",
    "To learn more about prompting in depth:\n",
    "\n",
    "* Check out the whitepaper issued with today's content,\n",
    "* Try out the apps listed at the top of this notebook ([TextFX](https://textfx.withgoogle.com/), [SQL Talk](https://sql-talk-r5gdynozbq-uc.a.run.app/) and [NotebookLM](https://notebooklm.google/)),\n",
    "* Read the [Introduction to Prompting](https://ai.google.dev/gemini-api/docs/prompting-intro) from the Gemini API docs,\n",
    "* Explore the Gemini API's [prompt gallery](https://ai.google.dev/gemini-api/prompts) and try them out in AI Studio,\n",
    "* Check out the Gemini API cookbook for [inspirational examples](https://github.com/google-gemini/cookbook/blob/main/examples/) and [educational quickstarts](https://github.com/google-gemini/cookbook/blob/main/quickstarts/).\n",
    "\n",
    "Be sure to check out the codelabs on day 3 too, where you will explore some more advanced prompting with code execution.\n",
    "\n",
    "And please share anything exciting you have tried in the Discord!\n",
    "\n",
    "*- [Mark McD](https://linktr.ee/markmcd)*"
   ]
  }
 ],
 "metadata": {
  "colab": {
   "name": "day-1-prompting.ipynb",
   "toc_visible": true
  },
  "kaggle": {
   "accelerator": "none",
   "dataSources": [],
   "dockerImageVersionId": 30786,
   "isGpuEnabled": false,
   "isInternetEnabled": true,
   "language": "python",
   "sourceType": "notebook"
  },
  "kernelspec": {
   "display_name": "myenv",
   "language": "python",
   "name": "python3"
  },
  "language_info": {
   "codemirror_mode": {
    "name": "ipython",
    "version": 3
   },
   "file_extension": ".py",
   "mimetype": "text/x-python",
   "name": "python",
   "nbconvert_exporter": "python",
   "pygments_lexer": "ipython3",
   "version": "3.9.6"
  },
  "papermill": {
   "default_parameters": {},
   "duration": 51.614232,
   "end_time": "2025-03-31T22:18:53.085130",
   "environment_variables": {},
   "exception": null,
   "input_path": "__notebook__.ipynb",
   "output_path": "__notebook__.ipynb",
   "parameters": {},
   "start_time": "2025-03-31T22:18:01.470898",
   "version": "2.6.0"
  }
 },
 "nbformat": 4,
 "nbformat_minor": 5
}
